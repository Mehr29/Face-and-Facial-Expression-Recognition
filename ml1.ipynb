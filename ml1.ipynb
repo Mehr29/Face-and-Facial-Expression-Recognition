{
  "metadata": {
    "kernelspec": {
      "language": "python",
      "display_name": "Python 3",
      "name": "python3"
    },
    "language_info": {
      "pygments_lexer": "ipython3",
      "nbconvert_exporter": "python",
      "version": "3.6.4",
      "file_extension": ".py",
      "codemirror_mode": {
        "name": "ipython",
        "version": 3
      },
      "name": "python",
      "mimetype": "text/x-python"
    },
    "colab": {
      "name": "ml.ipynb",
      "provenance": []
    }
  },
  "nbformat_minor": 0,
  "nbformat": 4,
  "cells": [
    {
      "cell_type": "markdown",
      "source": [
        "# **Facial Expression Recognition Training Notebook**\n",
        "### Sara Manrriquez"
      ],
      "metadata": {
        "id": "wzL0w9uqvtdk"
      }
    },
    {
      "cell_type": "markdown",
      "source": [
        "## Import Packages"
      ],
      "metadata": {
        "id": "bZ7joIg-vtdp"
      }
    },
    {
      "cell_type": "code",
      "source": [
        "import numpy as np\n",
        "import pandas as pd\n",
        "import matplotlib.pyplot as plt\n",
        "import matplotlib.image as mpimg\n",
        "import pickle\n",
        "\n",
        "from sklearn.model_selection import train_test_split\n",
        "\n",
        "import tensorflow as tf\n",
        "from tensorflow.keras.models import Sequential\n",
        "from tensorflow.keras.layers import *\n",
        "from tensorflow.keras.preprocessing.image import ImageDataGenerator\n",
        "from tensorflow.keras.regularizers import l2"
      ],
      "metadata": {
        "execution": {
          "iopub.status.busy": "2021-12-11T09:47:33.70647Z",
          "iopub.execute_input": "2021-12-11T09:47:33.70724Z",
          "iopub.status.idle": "2021-12-11T09:47:40.754983Z",
          "shell.execute_reply.started": "2021-12-11T09:47:33.707143Z",
          "shell.execute_reply": "2021-12-11T09:47:40.75381Z"
        },
        "trusted": true,
        "id": "P45_ZFuKvtdq"
      },
      "execution_count": 1,
      "outputs": []
    },
    {
      "cell_type": "code",
      "source": [
        "from google.colab import drive\n",
        "drive.mount('/content/gdrive')"
      ],
      "metadata": {
        "colab": {
          "base_uri": "https://localhost:8080/"
        },
        "id": "AUbi4-J3xNVV",
        "outputId": "bb9d69a6-58f6-497d-df80-f012daa89483"
      },
      "execution_count": 2,
      "outputs": [
        {
          "output_type": "stream",
          "name": "stdout",
          "text": [
            "Mounted at /content/gdrive\n"
          ]
        }
      ]
    },
    {
      "cell_type": "markdown",
      "source": [
        "## Load Training DataFrame"
      ],
      "metadata": {
        "id": "x-3smMmBvtdr"
      }
    },
    {
      "cell_type": "code",
      "source": [
        "train = pd.read_csv('/content/gdrive/MyDrive/data (1)/train.csv')\n",
        "print(train.shape)"
      ],
      "metadata": {
        "execution": {
          "iopub.status.busy": "2021-12-11T09:47:45.805048Z",
          "iopub.execute_input": "2021-12-11T09:47:45.805569Z",
          "iopub.status.idle": "2021-12-11T09:47:50.368549Z",
          "shell.execute_reply.started": "2021-12-11T09:47:45.805524Z",
          "shell.execute_reply": "2021-12-11T09:47:50.367567Z"
        },
        "trusted": true,
        "colab": {
          "base_uri": "https://localhost:8080/"
        },
        "id": "ERzPxjGevtds",
        "outputId": "1c84e262-32cf-4266-c3a8-3c95f1494d11"
      },
      "execution_count": 3,
      "outputs": [
        {
          "output_type": "stream",
          "name": "stdout",
          "text": [
            "(28709, 2)\n"
          ]
        }
      ]
    },
    {
      "cell_type": "code",
      "source": [
        "train.head()"
      ],
      "metadata": {
        "execution": {
          "iopub.status.busy": "2021-12-11T09:48:20.129961Z",
          "iopub.execute_input": "2021-12-11T09:48:20.130237Z",
          "iopub.status.idle": "2021-12-11T09:48:20.154295Z",
          "shell.execute_reply.started": "2021-12-11T09:48:20.130206Z",
          "shell.execute_reply": "2021-12-11T09:48:20.153344Z"
        },
        "trusted": true,
        "id": "YyBN3eFZvtdt",
        "colab": {
          "base_uri": "https://localhost:8080/",
          "height": 206
        },
        "outputId": "95def547-1caf-4cd2-bec8-a3e445a2868f"
      },
      "execution_count": 4,
      "outputs": [
        {
          "output_type": "execute_result",
          "data": {
            "text/plain": [
              "   emotion                                             pixels\n",
              "0        0  70 80 82 72 58 58 60 63 54 58 60 48 89 115 121...\n",
              "1        0  151 150 147 155 148 133 111 140 170 174 182 15...\n",
              "2        2  231 212 156 164 174 138 161 173 182 200 106 38...\n",
              "3        4  24 32 36 30 32 23 19 20 30 41 21 22 32 34 21 1...\n",
              "4        6  4 0 0 0 0 0 0 0 0 0 0 0 3 15 23 28 48 50 58 84..."
            ],
            "text/html": [
              "\n",
              "  <div id=\"df-1f9993fb-48dd-4135-9514-d8c8469b8c68\">\n",
              "    <div class=\"colab-df-container\">\n",
              "      <div>\n",
              "<style scoped>\n",
              "    .dataframe tbody tr th:only-of-type {\n",
              "        vertical-align: middle;\n",
              "    }\n",
              "\n",
              "    .dataframe tbody tr th {\n",
              "        vertical-align: top;\n",
              "    }\n",
              "\n",
              "    .dataframe thead th {\n",
              "        text-align: right;\n",
              "    }\n",
              "</style>\n",
              "<table border=\"1\" class=\"dataframe\">\n",
              "  <thead>\n",
              "    <tr style=\"text-align: right;\">\n",
              "      <th></th>\n",
              "      <th>emotion</th>\n",
              "      <th>pixels</th>\n",
              "    </tr>\n",
              "  </thead>\n",
              "  <tbody>\n",
              "    <tr>\n",
              "      <th>0</th>\n",
              "      <td>0</td>\n",
              "      <td>70 80 82 72 58 58 60 63 54 58 60 48 89 115 121...</td>\n",
              "    </tr>\n",
              "    <tr>\n",
              "      <th>1</th>\n",
              "      <td>0</td>\n",
              "      <td>151 150 147 155 148 133 111 140 170 174 182 15...</td>\n",
              "    </tr>\n",
              "    <tr>\n",
              "      <th>2</th>\n",
              "      <td>2</td>\n",
              "      <td>231 212 156 164 174 138 161 173 182 200 106 38...</td>\n",
              "    </tr>\n",
              "    <tr>\n",
              "      <th>3</th>\n",
              "      <td>4</td>\n",
              "      <td>24 32 36 30 32 23 19 20 30 41 21 22 32 34 21 1...</td>\n",
              "    </tr>\n",
              "    <tr>\n",
              "      <th>4</th>\n",
              "      <td>6</td>\n",
              "      <td>4 0 0 0 0 0 0 0 0 0 0 0 3 15 23 28 48 50 58 84...</td>\n",
              "    </tr>\n",
              "  </tbody>\n",
              "</table>\n",
              "</div>\n",
              "      <button class=\"colab-df-convert\" onclick=\"convertToInteractive('df-1f9993fb-48dd-4135-9514-d8c8469b8c68')\"\n",
              "              title=\"Convert this dataframe to an interactive table.\"\n",
              "              style=\"display:none;\">\n",
              "        \n",
              "  <svg xmlns=\"http://www.w3.org/2000/svg\" height=\"24px\"viewBox=\"0 0 24 24\"\n",
              "       width=\"24px\">\n",
              "    <path d=\"M0 0h24v24H0V0z\" fill=\"none\"/>\n",
              "    <path d=\"M18.56 5.44l.94 2.06.94-2.06 2.06-.94-2.06-.94-.94-2.06-.94 2.06-2.06.94zm-11 1L8.5 8.5l.94-2.06 2.06-.94-2.06-.94L8.5 2.5l-.94 2.06-2.06.94zm10 10l.94 2.06.94-2.06 2.06-.94-2.06-.94-.94-2.06-.94 2.06-2.06.94z\"/><path d=\"M17.41 7.96l-1.37-1.37c-.4-.4-.92-.59-1.43-.59-.52 0-1.04.2-1.43.59L10.3 9.45l-7.72 7.72c-.78.78-.78 2.05 0 2.83L4 21.41c.39.39.9.59 1.41.59.51 0 1.02-.2 1.41-.59l7.78-7.78 2.81-2.81c.8-.78.8-2.07 0-2.86zM5.41 20L4 18.59l7.72-7.72 1.47 1.35L5.41 20z\"/>\n",
              "  </svg>\n",
              "      </button>\n",
              "      \n",
              "  <style>\n",
              "    .colab-df-container {\n",
              "      display:flex;\n",
              "      flex-wrap:wrap;\n",
              "      gap: 12px;\n",
              "    }\n",
              "\n",
              "    .colab-df-convert {\n",
              "      background-color: #E8F0FE;\n",
              "      border: none;\n",
              "      border-radius: 50%;\n",
              "      cursor: pointer;\n",
              "      display: none;\n",
              "      fill: #1967D2;\n",
              "      height: 32px;\n",
              "      padding: 0 0 0 0;\n",
              "      width: 32px;\n",
              "    }\n",
              "\n",
              "    .colab-df-convert:hover {\n",
              "      background-color: #E2EBFA;\n",
              "      box-shadow: 0px 1px 2px rgba(60, 64, 67, 0.3), 0px 1px 3px 1px rgba(60, 64, 67, 0.15);\n",
              "      fill: #174EA6;\n",
              "    }\n",
              "\n",
              "    [theme=dark] .colab-df-convert {\n",
              "      background-color: #3B4455;\n",
              "      fill: #D2E3FC;\n",
              "    }\n",
              "\n",
              "    [theme=dark] .colab-df-convert:hover {\n",
              "      background-color: #434B5C;\n",
              "      box-shadow: 0px 1px 3px 1px rgba(0, 0, 0, 0.15);\n",
              "      filter: drop-shadow(0px 1px 2px rgba(0, 0, 0, 0.3));\n",
              "      fill: #FFFFFF;\n",
              "    }\n",
              "  </style>\n",
              "\n",
              "      <script>\n",
              "        const buttonEl =\n",
              "          document.querySelector('#df-1f9993fb-48dd-4135-9514-d8c8469b8c68 button.colab-df-convert');\n",
              "        buttonEl.style.display =\n",
              "          google.colab.kernel.accessAllowed ? 'block' : 'none';\n",
              "\n",
              "        async function convertToInteractive(key) {\n",
              "          const element = document.querySelector('#df-1f9993fb-48dd-4135-9514-d8c8469b8c68');\n",
              "          const dataTable =\n",
              "            await google.colab.kernel.invokeFunction('convertToInteractive',\n",
              "                                                     [key], {});\n",
              "          if (!dataTable) return;\n",
              "\n",
              "          const docLinkHtml = 'Like what you see? Visit the ' +\n",
              "            '<a target=\"_blank\" href=https://colab.research.google.com/notebooks/data_table.ipynb>data table notebook</a>'\n",
              "            + ' to learn more about interactive tables.';\n",
              "          element.innerHTML = '';\n",
              "          dataTable['output_type'] = 'display_data';\n",
              "          await google.colab.output.renderOutput(dataTable, element);\n",
              "          const docLink = document.createElement('div');\n",
              "          docLink.innerHTML = docLinkHtml;\n",
              "          element.appendChild(docLink);\n",
              "        }\n",
              "      </script>\n",
              "    </div>\n",
              "  </div>\n",
              "  "
            ]
          },
          "metadata": {},
          "execution_count": 4
        }
      ]
    },
    {
      "cell_type": "markdown",
      "source": [
        "## Label Distribution"
      ],
      "metadata": {
        "id": "qSboR6ZIvtdt"
      }
    },
    {
      "cell_type": "code",
      "source": [
        "emotion_prop = (train.emotion.value_counts() / len(train)).to_frame().sort_index(ascending=True)\n",
        "\n",
        "emotion_prop"
      ],
      "metadata": {
        "execution": {
          "iopub.status.busy": "2021-12-11T09:48:24.891622Z",
          "iopub.execute_input": "2021-12-11T09:48:24.891931Z",
          "iopub.status.idle": "2021-12-11T09:48:24.917779Z",
          "shell.execute_reply.started": "2021-12-11T09:48:24.891897Z",
          "shell.execute_reply": "2021-12-11T09:48:24.916568Z"
        },
        "trusted": true,
        "id": "x9It9knWvtdu",
        "colab": {
          "base_uri": "https://localhost:8080/",
          "height": 269
        },
        "outputId": "0c585250-8cc1-4b8e-c626-460c3d185c80"
      },
      "execution_count": 5,
      "outputs": [
        {
          "output_type": "execute_result",
          "data": {
            "text/plain": [
              "    emotion\n",
              "0  0.139155\n",
              "1  0.015187\n",
              "2  0.142708\n",
              "3  0.251315\n",
              "4  0.168240\n",
              "5  0.110453\n",
              "6  0.172942"
            ],
            "text/html": [
              "\n",
              "  <div id=\"df-30d4aa07-4fa0-4562-be2e-00c1d97c9150\">\n",
              "    <div class=\"colab-df-container\">\n",
              "      <div>\n",
              "<style scoped>\n",
              "    .dataframe tbody tr th:only-of-type {\n",
              "        vertical-align: middle;\n",
              "    }\n",
              "\n",
              "    .dataframe tbody tr th {\n",
              "        vertical-align: top;\n",
              "    }\n",
              "\n",
              "    .dataframe thead th {\n",
              "        text-align: right;\n",
              "    }\n",
              "</style>\n",
              "<table border=\"1\" class=\"dataframe\">\n",
              "  <thead>\n",
              "    <tr style=\"text-align: right;\">\n",
              "      <th></th>\n",
              "      <th>emotion</th>\n",
              "    </tr>\n",
              "  </thead>\n",
              "  <tbody>\n",
              "    <tr>\n",
              "      <th>0</th>\n",
              "      <td>0.139155</td>\n",
              "    </tr>\n",
              "    <tr>\n",
              "      <th>1</th>\n",
              "      <td>0.015187</td>\n",
              "    </tr>\n",
              "    <tr>\n",
              "      <th>2</th>\n",
              "      <td>0.142708</td>\n",
              "    </tr>\n",
              "    <tr>\n",
              "      <th>3</th>\n",
              "      <td>0.251315</td>\n",
              "    </tr>\n",
              "    <tr>\n",
              "      <th>4</th>\n",
              "      <td>0.168240</td>\n",
              "    </tr>\n",
              "    <tr>\n",
              "      <th>5</th>\n",
              "      <td>0.110453</td>\n",
              "    </tr>\n",
              "    <tr>\n",
              "      <th>6</th>\n",
              "      <td>0.172942</td>\n",
              "    </tr>\n",
              "  </tbody>\n",
              "</table>\n",
              "</div>\n",
              "      <button class=\"colab-df-convert\" onclick=\"convertToInteractive('df-30d4aa07-4fa0-4562-be2e-00c1d97c9150')\"\n",
              "              title=\"Convert this dataframe to an interactive table.\"\n",
              "              style=\"display:none;\">\n",
              "        \n",
              "  <svg xmlns=\"http://www.w3.org/2000/svg\" height=\"24px\"viewBox=\"0 0 24 24\"\n",
              "       width=\"24px\">\n",
              "    <path d=\"M0 0h24v24H0V0z\" fill=\"none\"/>\n",
              "    <path d=\"M18.56 5.44l.94 2.06.94-2.06 2.06-.94-2.06-.94-.94-2.06-.94 2.06-2.06.94zm-11 1L8.5 8.5l.94-2.06 2.06-.94-2.06-.94L8.5 2.5l-.94 2.06-2.06.94zm10 10l.94 2.06.94-2.06 2.06-.94-2.06-.94-.94-2.06-.94 2.06-2.06.94z\"/><path d=\"M17.41 7.96l-1.37-1.37c-.4-.4-.92-.59-1.43-.59-.52 0-1.04.2-1.43.59L10.3 9.45l-7.72 7.72c-.78.78-.78 2.05 0 2.83L4 21.41c.39.39.9.59 1.41.59.51 0 1.02-.2 1.41-.59l7.78-7.78 2.81-2.81c.8-.78.8-2.07 0-2.86zM5.41 20L4 18.59l7.72-7.72 1.47 1.35L5.41 20z\"/>\n",
              "  </svg>\n",
              "      </button>\n",
              "      \n",
              "  <style>\n",
              "    .colab-df-container {\n",
              "      display:flex;\n",
              "      flex-wrap:wrap;\n",
              "      gap: 12px;\n",
              "    }\n",
              "\n",
              "    .colab-df-convert {\n",
              "      background-color: #E8F0FE;\n",
              "      border: none;\n",
              "      border-radius: 50%;\n",
              "      cursor: pointer;\n",
              "      display: none;\n",
              "      fill: #1967D2;\n",
              "      height: 32px;\n",
              "      padding: 0 0 0 0;\n",
              "      width: 32px;\n",
              "    }\n",
              "\n",
              "    .colab-df-convert:hover {\n",
              "      background-color: #E2EBFA;\n",
              "      box-shadow: 0px 1px 2px rgba(60, 64, 67, 0.3), 0px 1px 3px 1px rgba(60, 64, 67, 0.15);\n",
              "      fill: #174EA6;\n",
              "    }\n",
              "\n",
              "    [theme=dark] .colab-df-convert {\n",
              "      background-color: #3B4455;\n",
              "      fill: #D2E3FC;\n",
              "    }\n",
              "\n",
              "    [theme=dark] .colab-df-convert:hover {\n",
              "      background-color: #434B5C;\n",
              "      box-shadow: 0px 1px 3px 1px rgba(0, 0, 0, 0.15);\n",
              "      filter: drop-shadow(0px 1px 2px rgba(0, 0, 0, 0.3));\n",
              "      fill: #FFFFFF;\n",
              "    }\n",
              "  </style>\n",
              "\n",
              "      <script>\n",
              "        const buttonEl =\n",
              "          document.querySelector('#df-30d4aa07-4fa0-4562-be2e-00c1d97c9150 button.colab-df-convert');\n",
              "        buttonEl.style.display =\n",
              "          google.colab.kernel.accessAllowed ? 'block' : 'none';\n",
              "\n",
              "        async function convertToInteractive(key) {\n",
              "          const element = document.querySelector('#df-30d4aa07-4fa0-4562-be2e-00c1d97c9150');\n",
              "          const dataTable =\n",
              "            await google.colab.kernel.invokeFunction('convertToInteractive',\n",
              "                                                     [key], {});\n",
              "          if (!dataTable) return;\n",
              "\n",
              "          const docLinkHtml = 'Like what you see? Visit the ' +\n",
              "            '<a target=\"_blank\" href=https://colab.research.google.com/notebooks/data_table.ipynb>data table notebook</a>'\n",
              "            + ' to learn more about interactive tables.';\n",
              "          element.innerHTML = '';\n",
              "          dataTable['output_type'] = 'display_data';\n",
              "          await google.colab.output.renderOutput(dataTable, element);\n",
              "          const docLink = document.createElement('div');\n",
              "          docLink.innerHTML = docLinkHtml;\n",
              "          element.appendChild(docLink);\n",
              "        }\n",
              "      </script>\n",
              "    </div>\n",
              "  </div>\n",
              "  "
            ]
          },
          "metadata": {},
          "execution_count": 5
        }
      ]
    },
    {
      "cell_type": "code",
      "source": [
        "emotions = ['Angry','Disgust','Fear','Happy','Sad','Surprise','Neutral']"
      ],
      "metadata": {
        "execution": {
          "iopub.status.busy": "2021-12-11T09:49:14.635138Z",
          "iopub.execute_input": "2021-12-11T09:49:14.635422Z",
          "iopub.status.idle": "2021-12-11T09:49:14.64133Z",
          "shell.execute_reply.started": "2021-12-11T09:49:14.635391Z",
          "shell.execute_reply": "2021-12-11T09:49:14.640135Z"
        },
        "trusted": true,
        "id": "VxcyG2htvtdu"
      },
      "execution_count": 6,
      "outputs": []
    },
    {
      "cell_type": "code",
      "source": [
        "palette = ['orchid', 'lightcoral', 'orange', 'gold', 'lightgreen', 'deepskyblue', 'cornflowerblue']\n",
        "\n",
        "plt.figure(figsize=[12,6])\n",
        "\n",
        "plt.bar(x=emotions, height=emotion_prop['emotion'], color=palette, edgecolor='black')\n",
        "    \n",
        "plt.xlabel('Emotion')\n",
        "plt.ylabel('Proportion')\n",
        "plt.title('Proportion of Emotion Labels')\n",
        "plt.show()"
      ],
      "metadata": {
        "execution": {
          "iopub.status.busy": "2021-12-11T09:49:17.470329Z",
          "iopub.execute_input": "2021-12-11T09:49:17.47067Z",
          "iopub.status.idle": "2021-12-11T09:49:18.077239Z",
          "shell.execute_reply.started": "2021-12-11T09:49:17.470616Z",
          "shell.execute_reply": "2021-12-11T09:49:18.076342Z"
        },
        "trusted": true,
        "id": "00pwdtn6vtdv",
        "colab": {
          "base_uri": "https://localhost:8080/",
          "height": 404
        },
        "outputId": "c54eb938-5beb-4b12-a696-bb3a31559cdb"
      },
      "execution_count": 7,
      "outputs": [
        {
          "output_type": "display_data",
          "data": {
            "text/plain": [
              "<Figure size 864x432 with 1 Axes>"
            ],
            "image/png": "[encoded data removed]"
          },
          "metadata": {
            "needs_background": "light"
          }
        }
      ]
    },
    {
      "cell_type": "markdown",
      "source": [
        "## View Sample of Images"
      ],
      "metadata": {
        "id": "xiYP-rpivtdw"
      }
    },
    {
      "cell_type": "code",
      "source": [
        "def pixels_to_array(pixels):\n",
        "    array = np.array(pixels.split(),'float64')\n",
        "    return array\n",
        "\n",
        "def image_reshape(data):\n",
        "    image = np.reshape(data['pixels'].to_list(),(data.shape[0],48,48,1))\n",
        "    return image"
      ],
      "metadata": {
        "execution": {
          "iopub.status.busy": "2021-12-11T09:49:25.783834Z",
          "iopub.execute_input": "2021-12-11T09:49:25.784105Z",
          "iopub.status.idle": "2021-12-11T09:49:25.791553Z",
          "shell.execute_reply.started": "2021-12-11T09:49:25.784075Z",
          "shell.execute_reply": "2021-12-11T09:49:25.790325Z"
        },
        "trusted": true,
        "id": "2qDW5TYPvtdw"
      },
      "execution_count": 8,
      "outputs": []
    },
    {
      "cell_type": "markdown",
      "source": [
        ""
      ],
      "metadata": {
        "id": "IiczyyLhvtdx"
      }
    },
    {
      "cell_type": "code",
      "source": [
        "train['pixels'] = train['pixels'].apply(pixels_to_array)\n",
        "X = image_reshape(train)\n",
        "y = train['emotion']"
      ],
      "metadata": {
        "execution": {
          "iopub.status.busy": "2021-12-11T09:49:32.193026Z",
          "iopub.execute_input": "2021-12-11T09:49:32.193968Z",
          "iopub.status.idle": "2021-12-11T09:49:53.34174Z",
          "shell.execute_reply.started": "2021-12-11T09:49:32.193921Z",
          "shell.execute_reply": "2021-12-11T09:49:53.340851Z"
        },
        "trusted": true,
        "id": "4gizEzOKvtdx"
      },
      "execution_count": 9,
      "outputs": []
    },
    {
      "cell_type": "code",
      "source": [
        "X_lin = train.drop(\"emotion\",axis=1)\n",
        "X_lin = np.reshape(train['pixels'].to_list(),(train.shape[0],2304))\n",
        "new = pd.DataFrame(X_lin)\n",
        "new"
      ],
      "metadata": {
        "colab": {
          "base_uri": "https://localhost:8080/",
          "height": 423
        },
        "id": "0WG6D1aSf2Pt",
        "outputId": "d4634ee6-ba99-4a44-f49e-324b51523a89"
      },
      "execution_count": 10,
      "outputs": [
        {
          "output_type": "execute_result",
          "data": {
            "text/plain": [
              "        0      1      2      3      4      5      6      7      8      9     \\\n",
              "0       70.0   80.0   82.0   72.0   58.0   58.0   60.0   63.0   54.0   58.0   \n",
              "1      151.0  150.0  147.0  155.0  148.0  133.0  111.0  140.0  170.0  174.0   \n",
              "2      231.0  212.0  156.0  164.0  174.0  138.0  161.0  173.0  182.0  200.0   \n",
              "3       24.0   32.0   36.0   30.0   32.0   23.0   19.0   20.0   30.0   41.0   \n",
              "4        4.0    0.0    0.0    0.0    0.0    0.0    0.0    0.0    0.0    0.0   \n",
              "...      ...    ...    ...    ...    ...    ...    ...    ...    ...    ...   \n",
              "28704   84.0   85.0   85.0   85.0   85.0   85.0   85.0   85.0   86.0   86.0   \n",
              "28705  114.0  112.0  113.0  113.0  111.0  111.0  112.0  113.0  115.0  113.0   \n",
              "28706   74.0   81.0   87.0   89.0   95.0  100.0   98.0   93.0  105.0  120.0   \n",
              "28707  222.0  227.0  203.0   90.0   86.0   90.0   84.0   77.0   94.0   87.0   \n",
              "28708  195.0  199.0  205.0  206.0  205.0  203.0  206.0  209.0  208.0  210.0   \n",
              "\n",
              "       ...   2294   2295   2296   2297   2298   2299   2300   2301   2302  \\\n",
              "0      ...  159.0  182.0  183.0  136.0  106.0  116.0   95.0  106.0  109.0   \n",
              "1      ...  105.0  108.0   95.0  108.0  102.0   67.0  171.0  193.0  183.0   \n",
              "2      ...  104.0  138.0  152.0  122.0  114.0  101.0   97.0   88.0  110.0   \n",
              "3      ...  174.0  126.0  132.0  132.0  133.0  136.0  139.0  142.0  143.0   \n",
              "4      ...   12.0   34.0   31.0   31.0   31.0   27.0   31.0   30.0   29.0   \n",
              "...    ...    ...    ...    ...    ...    ...    ...    ...    ...    ...   \n",
              "28704  ...   35.0   34.0   35.0   36.0   40.0   27.0  125.0  231.0  215.0   \n",
              "28705  ...   83.0   94.0  107.0  120.0  141.0  144.0  132.0  129.0  182.0   \n",
              "28706  ...  211.0  214.0  211.0  209.0  200.0  195.0  192.0  188.0  187.0   \n",
              "28707  ...  136.0  139.0  141.0  145.0  137.0  139.0  136.0  136.0  136.0   \n",
              "28708  ...  112.0   93.0   67.0   34.0    6.0    7.0    3.0    6.0   15.0   \n",
              "\n",
              "        2303  \n",
              "0       82.0  \n",
              "1      184.0  \n",
              "2      152.0  \n",
              "3      142.0  \n",
              "4       30.0  \n",
              "...      ...  \n",
              "28704  200.0  \n",
              "28705  222.0  \n",
              "28706  187.0  \n",
              "28707  134.0  \n",
              "28708   38.0  \n",
              "\n",
              "[28709 rows x 2304 columns]"
            ],
            "text/html": [
              "\n",
              "  <div id=\"df-7cbef784-12b0-4231-a23d-d47cfeef3348\">\n",
              "    <div class=\"colab-df-container\">\n",
              "      <div>\n",
              "<style scoped>\n",
              "    .dataframe tbody tr th:only-of-type {\n",
              "        vertical-align: middle;\n",
              "    }\n",
              "\n",
              "    .dataframe tbody tr th {\n",
              "        vertical-align: top;\n",
              "    }\n",
              "\n",
              "    .dataframe thead th {\n",
              "        text-align: right;\n",
              "    }\n",
              "</style>\n",
              "<table border=\"1\" class=\"dataframe\">\n",
              "  <thead>\n",
              "    <tr style=\"text-align: right;\">\n",
              "      <th></th>\n",
              "      <th>0</th>\n",
              "      <th>1</th>\n",
              "      <th>2</th>\n",
              "      <th>3</th>\n",
              "      <th>4</th>\n",
              "      <th>5</th>\n",
              "      <th>6</th>\n",
              "      <th>7</th>\n",
              "      <th>8</th>\n",
              "      <th>9</th>\n",
              "      <th>...</th>\n",
              "      <th>2294</th>\n",
              "      <th>2295</th>\n",
              "      <th>2296</th>\n",
              "      <th>2297</th>\n",
              "      <th>2298</th>\n",
              "      <th>2299</th>\n",
              "      <th>2300</th>\n",
              "      <th>2301</th>\n",
              "      <th>2302</th>\n",
              "      <th>2303</th>\n",
              "    </tr>\n",
              "  </thead>\n",
              "  <tbody>\n",
              "    <tr>\n",
              "      <th>0</th>\n",
              "      <td>70.0</td>\n",
              "      <td>80.0</td>\n",
              "      <td>82.0</td>\n",
              "      <td>72.0</td>\n",
              "      <td>58.0</td>\n",
              "      <td>58.0</td>\n",
              "      <td>60.0</td>\n",
              "      <td>63.0</td>\n",
              "      <td>54.0</td>\n",
              "      <td>58.0</td>\n",
              "      <td>...</td>\n",
              "      <td>159.0</td>\n",
              "      <td>182.0</td>\n",
              "      <td>183.0</td>\n",
              "      <td>136.0</td>\n",
              "      <td>106.0</td>\n",
              "      <td>116.0</td>\n",
              "      <td>95.0</td>\n",
              "      <td>106.0</td>\n",
              "      <td>109.0</td>\n",
              "      <td>82.0</td>\n",
              "    </tr>\n",
              "    <tr>\n",
              "      <th>1</th>\n",
              "      <td>151.0</td>\n",
              "      <td>150.0</td>\n",
              "      <td>147.0</td>\n",
              "      <td>155.0</td>\n",
              "      <td>148.0</td>\n",
              "      <td>133.0</td>\n",
              "      <td>111.0</td>\n",
              "      <td>140.0</td>\n",
              "      <td>170.0</td>\n",
              "      <td>174.0</td>\n",
              "      <td>...</td>\n",
              "      <td>105.0</td>\n",
              "      <td>108.0</td>\n",
              "      <td>95.0</td>\n",
              "      <td>108.0</td>\n",
              "      <td>102.0</td>\n",
              "      <td>67.0</td>\n",
              "      <td>171.0</td>\n",
              "      <td>193.0</td>\n",
              "      <td>183.0</td>\n",
              "      <td>184.0</td>\n",
              "    </tr>\n",
              "    <tr>\n",
              "      <th>2</th>\n",
              "      <td>231.0</td>\n",
              "      <td>212.0</td>\n",
              "      <td>156.0</td>\n",
              "      <td>164.0</td>\n",
              "      <td>174.0</td>\n",
              "      <td>138.0</td>\n",
              "      <td>161.0</td>\n",
              "      <td>173.0</td>\n",
              "      <td>182.0</td>\n",
              "      <td>200.0</td>\n",
              "      <td>...</td>\n",
              "      <td>104.0</td>\n",
              "      <td>138.0</td>\n",
              "      <td>152.0</td>\n",
              "      <td>122.0</td>\n",
              "      <td>114.0</td>\n",
              "      <td>101.0</td>\n",
              "      <td>97.0</td>\n",
              "      <td>88.0</td>\n",
              "      <td>110.0</td>\n",
              "      <td>152.0</td>\n",
              "    </tr>\n",
              "    <tr>\n",
              "      <th>3</th>\n",
              "      <td>24.0</td>\n",
              "      <td>32.0</td>\n",
              "      <td>36.0</td>\n",
              "      <td>30.0</td>\n",
              "      <td>32.0</td>\n",
              "      <td>23.0</td>\n",
              "      <td>19.0</td>\n",
              "      <td>20.0</td>\n",
              "      <td>30.0</td>\n",
              "      <td>41.0</td>\n",
              "      <td>...</td>\n",
              "      <td>174.0</td>\n",
              "      <td>126.0</td>\n",
              "      <td>132.0</td>\n",
              "      <td>132.0</td>\n",
              "      <td>133.0</td>\n",
              "      <td>136.0</td>\n",
              "      <td>139.0</td>\n",
              "      <td>142.0</td>\n",
              "      <td>143.0</td>\n",
              "      <td>142.0</td>\n",
              "    </tr>\n",
              "    <tr>\n",
              "      <th>4</th>\n",
              "      <td>4.0</td>\n",
              "      <td>0.0</td>\n",
              "      <td>0.0</td>\n",
              "      <td>0.0</td>\n",
              "      <td>0.0</td>\n",
              "      <td>0.0</td>\n",
              "      <td>0.0</td>\n",
              "      <td>0.0</td>\n",
              "      <td>0.0</td>\n",
              "      <td>0.0</td>\n",
              "      <td>...</td>\n",
              "      <td>12.0</td>\n",
              "      <td>34.0</td>\n",
              "      <td>31.0</td>\n",
              "      <td>31.0</td>\n",
              "      <td>31.0</td>\n",
              "      <td>27.0</td>\n",
              "      <td>31.0</td>\n",
              "      <td>30.0</td>\n",
              "      <td>29.0</td>\n",
              "      <td>30.0</td>\n",
              "    </tr>\n",
              "    <tr>\n",
              "      <th>...</th>\n",
              "      <td>...</td>\n",
              "      <td>...</td>\n",
              "      <td>...</td>\n",
              "      <td>...</td>\n",
              "      <td>...</td>\n",
              "      <td>...</td>\n",
              "      <td>...</td>\n",
              "      <td>...</td>\n",
              "      <td>...</td>\n",
              "      <td>...</td>\n",
              "      <td>...</td>\n",
              "      <td>...</td>\n",
              "      <td>...</td>\n",
              "      <td>...</td>\n",
              "      <td>...</td>\n",
              "      <td>...</td>\n",
              "      <td>...</td>\n",
              "      <td>...</td>\n",
              "      <td>...</td>\n",
              "      <td>...</td>\n",
              "      <td>...</td>\n",
              "    </tr>\n",
              "    <tr>\n",
              "      <th>28704</th>\n",
              "      <td>84.0</td>\n",
              "      <td>85.0</td>\n",
              "      <td>85.0</td>\n",
              "      <td>85.0</td>\n",
              "      <td>85.0</td>\n",
              "      <td>85.0</td>\n",
              "      <td>85.0</td>\n",
              "      <td>85.0</td>\n",
              "      <td>86.0</td>\n",
              "      <td>86.0</td>\n",
              "      <td>...</td>\n",
              "      <td>35.0</td>\n",
              "      <td>34.0</td>\n",
              "      <td>35.0</td>\n",
              "      <td>36.0</td>\n",
              "      <td>40.0</td>\n",
              "      <td>27.0</td>\n",
              "      <td>125.0</td>\n",
              "      <td>231.0</td>\n",
              "      <td>215.0</td>\n",
              "      <td>200.0</td>\n",
              "    </tr>\n",
              "    <tr>\n",
              "      <th>28705</th>\n",
              "      <td>114.0</td>\n",
              "      <td>112.0</td>\n",
              "      <td>113.0</td>\n",
              "      <td>113.0</td>\n",
              "      <td>111.0</td>\n",
              "      <td>111.0</td>\n",
              "      <td>112.0</td>\n",
              "      <td>113.0</td>\n",
              "      <td>115.0</td>\n",
              "      <td>113.0</td>\n",
              "      <td>...</td>\n",
              "      <td>83.0</td>\n",
              "      <td>94.0</td>\n",
              "      <td>107.0</td>\n",
              "      <td>120.0</td>\n",
              "      <td>141.0</td>\n",
              "      <td>144.0</td>\n",
              "      <td>132.0</td>\n",
              "      <td>129.0</td>\n",
              "      <td>182.0</td>\n",
              "      <td>222.0</td>\n",
              "    </tr>\n",
              "    <tr>\n",
              "      <th>28706</th>\n",
              "      <td>74.0</td>\n",
              "      <td>81.0</td>\n",
              "      <td>87.0</td>\n",
              "      <td>89.0</td>\n",
              "      <td>95.0</td>\n",
              "      <td>100.0</td>\n",
              "      <td>98.0</td>\n",
              "      <td>93.0</td>\n",
              "      <td>105.0</td>\n",
              "      <td>120.0</td>\n",
              "      <td>...</td>\n",
              "      <td>211.0</td>\n",
              "      <td>214.0</td>\n",
              "      <td>211.0</td>\n",
              "      <td>209.0</td>\n",
              "      <td>200.0</td>\n",
              "      <td>195.0</td>\n",
              "      <td>192.0</td>\n",
              "      <td>188.0</td>\n",
              "      <td>187.0</td>\n",
              "      <td>187.0</td>\n",
              "    </tr>\n",
              "    <tr>\n",
              "      <th>28707</th>\n",
              "      <td>222.0</td>\n",
              "      <td>227.0</td>\n",
              "      <td>203.0</td>\n",
              "      <td>90.0</td>\n",
              "      <td>86.0</td>\n",
              "      <td>90.0</td>\n",
              "      <td>84.0</td>\n",
              "      <td>77.0</td>\n",
              "      <td>94.0</td>\n",
              "      <td>87.0</td>\n",
              "      <td>...</td>\n",
              "      <td>136.0</td>\n",
              "      <td>139.0</td>\n",
              "      <td>141.0</td>\n",
              "      <td>145.0</td>\n",
              "      <td>137.0</td>\n",
              "      <td>139.0</td>\n",
              "      <td>136.0</td>\n",
              "      <td>136.0</td>\n",
              "      <td>136.0</td>\n",
              "      <td>134.0</td>\n",
              "    </tr>\n",
              "    <tr>\n",
              "      <th>28708</th>\n",
              "      <td>195.0</td>\n",
              "      <td>199.0</td>\n",
              "      <td>205.0</td>\n",
              "      <td>206.0</td>\n",
              "      <td>205.0</td>\n",
              "      <td>203.0</td>\n",
              "      <td>206.0</td>\n",
              "      <td>209.0</td>\n",
              "      <td>208.0</td>\n",
              "      <td>210.0</td>\n",
              "      <td>...</td>\n",
              "      <td>112.0</td>\n",
              "      <td>93.0</td>\n",
              "      <td>67.0</td>\n",
              "      <td>34.0</td>\n",
              "      <td>6.0</td>\n",
              "      <td>7.0</td>\n",
              "      <td>3.0</td>\n",
              "      <td>6.0</td>\n",
              "      <td>15.0</td>\n",
              "      <td>38.0</td>\n",
              "    </tr>\n",
              "  </tbody>\n",
              "</table>\n",
              "<p>28709 rows × 2304 columns</p>\n",
              "</div>\n",
              "      <button class=\"colab-df-convert\" onclick=\"convertToInteractive('df-7cbef784-12b0-4231-a23d-d47cfeef3348')\"\n",
              "              title=\"Convert this dataframe to an interactive table.\"\n",
              "              style=\"display:none;\">\n",
              "        \n",
              "  <svg xmlns=\"http://www.w3.org/2000/svg\" height=\"24px\"viewBox=\"0 0 24 24\"\n",
              "       width=\"24px\">\n",
              "    <path d=\"M0 0h24v24H0V0z\" fill=\"none\"/>\n",
              "    <path d=\"M18.56 5.44l.94 2.06.94-2.06 2.06-.94-2.06-.94-.94-2.06-.94 2.06-2.06.94zm-11 1L8.5 8.5l.94-2.06 2.06-.94-2.06-.94L8.5 2.5l-.94 2.06-2.06.94zm10 10l.94 2.06.94-2.06 2.06-.94-2.06-.94-.94-2.06-.94 2.06-2.06.94z\"/><path d=\"M17.41 7.96l-1.37-1.37c-.4-.4-.92-.59-1.43-.59-.52 0-1.04.2-1.43.59L10.3 9.45l-7.72 7.72c-.78.78-.78 2.05 0 2.83L4 21.41c.39.39.9.59 1.41.59.51 0 1.02-.2 1.41-.59l7.78-7.78 2.81-2.81c.8-.78.8-2.07 0-2.86zM5.41 20L4 18.59l7.72-7.72 1.47 1.35L5.41 20z\"/>\n",
              "  </svg>\n",
              "      </button>\n",
              "      \n",
              "  <style>\n",
              "    .colab-df-container {\n",
              "      display:flex;\n",
              "      flex-wrap:wrap;\n",
              "      gap: 12px;\n",
              "    }\n",
              "\n",
              "    .colab-df-convert {\n",
              "      background-color: #E8F0FE;\n",
              "      border: none;\n",
              "      border-radius: 50%;\n",
              "      cursor: pointer;\n",
              "      display: none;\n",
              "      fill: #1967D2;\n",
              "      height: 32px;\n",
              "      padding: 0 0 0 0;\n",
              "      width: 32px;\n",
              "    }\n",
              "\n",
              "    .colab-df-convert:hover {\n",
              "      background-color: #E2EBFA;\n",
              "      box-shadow: 0px 1px 2px rgba(60, 64, 67, 0.3), 0px 1px 3px 1px rgba(60, 64, 67, 0.15);\n",
              "      fill: #174EA6;\n",
              "    }\n",
              "\n",
              "    [theme=dark] .colab-df-convert {\n",
              "      background-color: #3B4455;\n",
              "      fill: #D2E3FC;\n",
              "    }\n",
              "\n",
              "    [theme=dark] .colab-df-convert:hover {\n",
              "      background-color: #434B5C;\n",
              "      box-shadow: 0px 1px 3px 1px rgba(0, 0, 0, 0.15);\n",
              "      filter: drop-shadow(0px 1px 2px rgba(0, 0, 0, 0.3));\n",
              "      fill: #FFFFFF;\n",
              "    }\n",
              "  </style>\n",
              "\n",
              "      <script>\n",
              "        const buttonEl =\n",
              "          document.querySelector('#df-7cbef784-12b0-4231-a23d-d47cfeef3348 button.colab-df-convert');\n",
              "        buttonEl.style.display =\n",
              "          google.colab.kernel.accessAllowed ? 'block' : 'none';\n",
              "\n",
              "        async function convertToInteractive(key) {\n",
              "          const element = document.querySelector('#df-7cbef784-12b0-4231-a23d-d47cfeef3348');\n",
              "          const dataTable =\n",
              "            await google.colab.kernel.invokeFunction('convertToInteractive',\n",
              "                                                     [key], {});\n",
              "          if (!dataTable) return;\n",
              "\n",
              "          const docLinkHtml = 'Like what you see? Visit the ' +\n",
              "            '<a target=\"_blank\" href=https://colab.research.google.com/notebooks/data_table.ipynb>data table notebook</a>'\n",
              "            + ' to learn more about interactive tables.';\n",
              "          element.innerHTML = '';\n",
              "          dataTable['output_type'] = 'display_data';\n",
              "          await google.colab.output.renderOutput(dataTable, element);\n",
              "          const docLink = document.createElement('div');\n",
              "          docLink.innerHTML = docLinkHtml;\n",
              "          element.appendChild(docLink);\n",
              "        }\n",
              "      </script>\n",
              "    </div>\n",
              "  </div>\n",
              "  "
            ]
          },
          "metadata": {},
          "execution_count": 10
        }
      ]
    },
    {
      "cell_type": "markdown",
      "source": [
        "## Split Data"
      ],
      "metadata": {
        "id": "VSzfeeGwvtdy"
      }
    },
    {
      "cell_type": "code",
      "source": [
        "from sklearn.preprocessing import StandardScaler\n",
        "scaler = StandardScaler()\n",
        "X_train, X_valid, y_train, y_valid = train_test_split(X, y, test_size=0.2, random_state=1)\n",
        "X_train_lin, X_valid_lin, y_train_lin, y_valid_lin = train_test_split(new, y, test_size=0.9, random_state=1)\n",
        "X_train_lin = scaler.fit_transform(X_train_lin)\n",
        "X_valid_lin = scaler.transform(X_valid_lin)"
      ],
      "metadata": {
        "execution": {
          "iopub.status.busy": "2021-12-11T09:50:02.004473Z",
          "iopub.execute_input": "2021-12-11T09:50:02.004805Z",
          "iopub.status.idle": "2021-12-11T09:50:02.202976Z",
          "shell.execute_reply.started": "2021-12-11T09:50:02.004771Z",
          "shell.execute_reply": "2021-12-11T09:50:02.202054Z"
        },
        "trusted": true,
        "id": "utr-EQCSvtdy"
      },
      "execution_count": 13,
      "outputs": []
    },
    {
      "cell_type": "code",
      "source": [
        "from sklearn.decomposition import PCA\n",
        "pca = PCA(n_components=3)\n",
        "scaler = StandardScaler()\n",
        "X_train_lin = pca.fit_transform(X_train_lin)\n",
        "X_valid_lin = pca.transform(X_valid_lin)\n",
        "X_train_lin = scaler.fit_transform(X_train_lin)\n",
        "X_valid_lin = scaler.transform(X_valid_lin)"
      ],
      "metadata": {
        "id": "Jk1rAXH2_RGX"
      },
      "execution_count": 14,
      "outputs": []
    },
    {
      "cell_type": "code",
      "source": [
        "print(X_train.shape)\n",
        "print(y_train.shape)\n",
        "print(X_valid.shape)\n",
        "print(y_valid.shape)"
      ],
      "metadata": {
        "execution": {
          "iopub.status.busy": "2021-12-11T09:50:04.995513Z",
          "iopub.execute_input": "2021-12-11T09:50:04.996263Z",
          "iopub.status.idle": "2021-12-11T09:50:05.004049Z",
          "shell.execute_reply.started": "2021-12-11T09:50:04.996219Z",
          "shell.execute_reply": "2021-12-11T09:50:05.00256Z"
        },
        "trusted": true,
        "id": "cZK19_Wtvtdz",
        "colab": {
          "base_uri": "https://localhost:8080/"
        },
        "outputId": "d8e94942-5722-46d0-b17c-ddf048d6d9d3"
      },
      "execution_count": 15,
      "outputs": [
        {
          "output_type": "stream",
          "name": "stdout",
          "text": [
            "(22967, 48, 48, 1)\n",
            "(22967,)\n",
            "(5742, 48, 48, 1)\n",
            "(5742,)\n"
          ]
        }
      ]
    },
    {
      "cell_type": "code",
      "source": [
        "print(X_train_lin.shape)\n",
        "print(y_train_lin.shape)\n",
        "print(X_valid_lin.shape)\n",
        "print(y_valid_lin.shape)"
      ],
      "metadata": {
        "colab": {
          "base_uri": "https://localhost:8080/"
        },
        "id": "M6oicf4ifqgB",
        "outputId": "33fe7031-c0f6-4fc1-d29b-2f2e6174fb39"
      },
      "execution_count": 16,
      "outputs": [
        {
          "output_type": "stream",
          "name": "stdout",
          "text": [
            "(2870, 3)\n",
            "(2870,)\n",
            "(25839, 3)\n",
            "(25839,)\n"
          ]
        }
      ]
    },
    {
      "cell_type": "code",
      "source": [
        "from sklearn.svm import SVC\n",
        "classifier = SVC(kernel='rbf', random_state = 1)\n",
        "classifier.fit(X_train_lin,y_train_lin)"
      ],
      "metadata": {
        "colab": {
          "base_uri": "https://localhost:8080/"
        },
        "id": "fMZKfsV8h4YS",
        "outputId": "18463684-4e02-451b-991a-69ce0f4d1434"
      },
      "execution_count": 17,
      "outputs": [
        {
          "output_type": "execute_result",
          "data": {
            "text/plain": [
              "SVC(random_state=1)"
            ]
          },
          "metadata": {},
          "execution_count": 17
        }
      ]
    },
    {
      "cell_type": "code",
      "source": [
        "Y_pred = classifier.predict(X_valid_lin)\n",
        "from sklearn.metrics import confusion_matrix\n",
        "cm = confusion_matrix(y_valid_lin,Y_pred)\n",
        "accuracy = float(cm.diagonal().sum())/len(y_valid_lin)\n",
        "print(\"\\nAccuracy Of SVM For The Given Dataset : \", accuracy)"
      ],
      "metadata": {
        "colab": {
          "base_uri": "https://localhost:8080/"
        },
        "id": "VkKk2OQHjB-X",
        "outputId": "0a3b9267-629c-42b2-db80-6d78a993fe65"
      },
      "execution_count": 19,
      "outputs": [
        {
          "output_type": "stream",
          "name": "stdout",
          "text": [
            "\n",
            "Accuracy Of SVM For The Given Dataset :  0.25821432717984444\n"
          ]
        }
      ]
    },
    {
      "cell_type": "markdown",
      "source": [
        "## Build Network"
      ],
      "metadata": {
        "id": "K5HI1QQ0vtdz"
      }
    },
    {
      "cell_type": "code",
      "source": [
        "np.random.seed(1)\n",
        "tf.random.set_seed(1)\n",
        "\n",
        "cnn = Sequential([\n",
        "    Conv2D(64, (3,3), activation = 'relu', padding = 'same', input_shape=(48,48,1)),\n",
        "    Conv2D(64, (3,3), activation = 'relu', padding = 'same'),\n",
        "    MaxPooling2D(2,2),\n",
        "    Dropout(0.25),\n",
        "    BatchNormalization(),\n",
        "\n",
        "    Conv2D(128, (3,3), activation = 'relu', padding = 'same'),\n",
        "    Conv2D(128, (3,3), activation = 'relu', padding = 'same'),\n",
        "    MaxPooling2D(2,2),\n",
        "    Dropout(0.5),\n",
        "    BatchNormalization(),\n",
        "    \n",
        "    Conv2D(64, (3,3), activation = 'relu', padding = 'same'),\n",
        "    Conv2D(64, (3,3), activation = 'relu', padding = 'same'),\n",
        "    MaxPooling2D(2,2),\n",
        "    Dropout(0.5),\n",
        "    BatchNormalization(),\n",
        "\n",
        "    Flatten(),\n",
        "    \n",
        "    Dense(128, activation='relu'),\n",
        "    Dropout(0.5),\n",
        "    Dense(64, activation='relu'),\n",
        "    Dropout(0.25),\n",
        "    BatchNormalization(),\n",
        "    Dense(7, activation='softmax')\n",
        "])\n",
        "\n",
        "cnn.summary()"
      ],
      "metadata": {
        "execution": {
          "iopub.status.busy": "2021-12-11T09:50:10.66994Z",
          "iopub.execute_input": "2021-12-11T09:50:10.670773Z",
          "iopub.status.idle": "2021-12-11T09:50:13.748522Z",
          "shell.execute_reply.started": "2021-12-11T09:50:10.670736Z",
          "shell.execute_reply": "2021-12-11T09:50:13.747535Z"
        },
        "trusted": true,
        "id": "t3mGFg9rvtdz",
        "colab": {
          "base_uri": "https://localhost:8080/"
        },
        "outputId": "8b1373c1-af5c-4cf1-be71-ff5d421c60b7"
      },
      "execution_count": null,
      "outputs": [
        {
          "output_type": "stream",
          "name": "stdout",
          "text": [
            "Model: \"sequential\"\n",
            "_________________________________________________________________\n",
            " Layer (type)                Output Shape              Param #   \n",
            "=================================================================\n",
            " conv2d (Conv2D)             (None, 48, 48, 64)        640       \n",
            "                                                                 \n",
            " conv2d_1 (Conv2D)           (None, 48, 48, 64)        36928     \n",
            "                                                                 \n",
            " max_pooling2d (MaxPooling2D  (None, 24, 24, 64)       0         \n",
            " )                                                               \n",
            "                                                                 \n",
            " dropout (Dropout)           (None, 24, 24, 64)        0         \n",
            "                                                                 \n",
            " batch_normalization (BatchN  (None, 24, 24, 64)       256       \n",
            " ormalization)                                                   \n",
            "                                                                 \n",
            " conv2d_2 (Conv2D)           (None, 24, 24, 128)       73856     \n",
            "                                                                 \n",
            " conv2d_3 (Conv2D)           (None, 24, 24, 128)       147584    \n",
            "                                                                 \n",
            " max_pooling2d_1 (MaxPooling  (None, 12, 12, 128)      0         \n",
            " 2D)                                                             \n",
            "                                                                 \n",
            " dropout_1 (Dropout)         (None, 12, 12, 128)       0         \n",
            "                                                                 \n",
            " batch_normalization_1 (Batc  (None, 12, 12, 128)      512       \n",
            " hNormalization)                                                 \n",
            "                                                                 \n",
            " conv2d_4 (Conv2D)           (None, 12, 12, 64)        73792     \n",
            "                                                                 \n",
            " conv2d_5 (Conv2D)           (None, 12, 12, 64)        36928     \n",
            "                                                                 \n",
            " max_pooling2d_2 (MaxPooling  (None, 6, 6, 64)         0         \n",
            " 2D)                                                             \n",
            "                                                                 \n",
            " dropout_2 (Dropout)         (None, 6, 6, 64)          0         \n",
            "                                                                 \n",
            " batch_normalization_2 (Batc  (None, 6, 6, 64)         256       \n",
            " hNormalization)                                                 \n",
            "                                                                 \n",
            " flatten (Flatten)           (None, 2304)              0         \n",
            "                                                                 \n",
            " dense (Dense)               (None, 128)               295040    \n",
            "                                                                 \n",
            " dropout_3 (Dropout)         (None, 128)               0         \n",
            "                                                                 \n",
            " dense_1 (Dense)             (None, 64)                8256      \n",
            "                                                                 \n",
            " dropout_4 (Dropout)         (None, 64)                0         \n",
            "                                                                 \n",
            " batch_normalization_3 (Batc  (None, 64)               256       \n",
            " hNormalization)                                                 \n",
            "                                                                 \n",
            " dense_2 (Dense)             (None, 7)                 455       \n",
            "                                                                 \n",
            "=================================================================\n",
            "Total params: 674,759\n",
            "Trainable params: 674,119\n",
            "Non-trainable params: 640\n",
            "_________________________________________________________________\n"
          ]
        }
      ]
    },
    {
      "cell_type": "markdown",
      "source": [
        "## Train Network"
      ],
      "metadata": {
        "id": "uMoptjMtvtd0"
      }
    },
    {
      "cell_type": "code",
      "source": [
        "opt = tf.keras.optimizers.Adam(0.001)\n",
        "cnn.compile(loss='sparse_categorical_crossentropy', optimizer=opt, metrics=['accuracy'])"
      ],
      "metadata": {
        "execution": {
          "iopub.status.busy": "2021-11-16T15:25:36.026986Z",
          "iopub.execute_input": "2021-11-16T15:25:36.027259Z",
          "iopub.status.idle": "2021-11-16T15:25:36.043672Z",
          "shell.execute_reply.started": "2021-11-16T15:25:36.02723Z",
          "shell.execute_reply": "2021-11-16T15:25:36.042774Z"
        },
        "trusted": true,
        "id": "M9pO6Klgvtd0"
      },
      "execution_count": null,
      "outputs": []
    },
    {
      "cell_type": "code",
      "source": [
        "%%time \n",
        "\n",
        "h1 = cnn.fit(\n",
        "    X_train, y_train, \n",
        "    batch_size=256,\n",
        "    epochs = 20,\n",
        "    verbose = 1,\n",
        "    validation_data = (X_valid, y_valid)\n",
        ")\n",
        "\n",
        "cnn.pop()\n",
        "cnn.summary()"
      ],
      "metadata": {
        "execution": {
          "iopub.status.busy": "2021-11-16T15:26:36.185935Z",
          "iopub.execute_input": "2021-11-16T15:26:36.186197Z",
          "iopub.status.idle": "2021-11-16T15:28:19.930888Z",
          "shell.execute_reply.started": "2021-11-16T15:26:36.186167Z",
          "shell.execute_reply": "2021-11-16T15:28:19.930173Z"
        },
        "trusted": true,
        "id": "8hk_e-DNvtd0",
        "colab": {
          "base_uri": "https://localhost:8080/"
        },
        "outputId": "1d750b05-1ccf-4dd3-85cf-97382b5255f3"
      },
      "execution_count": null,
      "outputs": [
        {
          "output_type": "stream",
          "name": "stdout",
          "text": [
            "Epoch 1/20\n",
            "90/90 [==============================] - 36s 233ms/step - loss: 2.2144 - accuracy: 0.1830 - val_loss: 6.1661 - val_accuracy: 0.1252\n",
            "Epoch 2/20\n",
            "90/90 [==============================] - 17s 189ms/step - loss: 1.9495 - accuracy: 0.2307 - val_loss: 1.8303 - val_accuracy: 0.2734\n",
            "Epoch 3/20\n",
            "90/90 [==============================] - 17s 188ms/step - loss: 1.8692 - accuracy: 0.2518 - val_loss: 1.7370 - val_accuracy: 0.2980\n",
            "Epoch 4/20\n",
            "90/90 [==============================] - 17s 194ms/step - loss: 1.8135 - accuracy: 0.2716 - val_loss: 1.7341 - val_accuracy: 0.2818\n",
            "Epoch 5/20\n",
            "90/90 [==============================] - 17s 188ms/step - loss: 1.7380 - accuracy: 0.3061 - val_loss: 1.7258 - val_accuracy: 0.3015\n",
            "Epoch 6/20\n",
            "90/90 [==============================] - 17s 189ms/step - loss: 1.6581 - accuracy: 0.3423 - val_loss: 1.6888 - val_accuracy: 0.3394\n",
            "Epoch 7/20\n",
            "90/90 [==============================] - 17s 189ms/step - loss: 1.5788 - accuracy: 0.3869 - val_loss: 1.6067 - val_accuracy: 0.3859\n",
            "Epoch 8/20\n",
            "90/90 [==============================] - 17s 189ms/step - loss: 1.5006 - accuracy: 0.4159 - val_loss: 1.6916 - val_accuracy: 0.3457\n",
            "Epoch 9/20\n",
            "90/90 [==============================] - 17s 189ms/step - loss: 1.4404 - accuracy: 0.4410 - val_loss: 1.5030 - val_accuracy: 0.4169\n",
            "Epoch 10/20\n",
            "90/90 [==============================] - 17s 190ms/step - loss: 1.3912 - accuracy: 0.4624 - val_loss: 1.3677 - val_accuracy: 0.4835\n",
            "Epoch 11/20\n",
            "90/90 [==============================] - 17s 189ms/step - loss: 1.3483 - accuracy: 0.4817 - val_loss: 1.2794 - val_accuracy: 0.5108\n",
            "Epoch 12/20\n",
            "90/90 [==============================] - 17s 190ms/step - loss: 1.3120 - accuracy: 0.5004 - val_loss: 1.2614 - val_accuracy: 0.5104\n",
            "Epoch 13/20\n",
            "90/90 [==============================] - 17s 189ms/step - loss: 1.2844 - accuracy: 0.5079 - val_loss: 1.2605 - val_accuracy: 0.5129\n",
            "Epoch 14/20\n",
            "90/90 [==============================] - 17s 189ms/step - loss: 1.2691 - accuracy: 0.5158 - val_loss: 1.1969 - val_accuracy: 0.5474\n",
            "Epoch 15/20\n",
            "90/90 [==============================] - 17s 189ms/step - loss: 1.2346 - accuracy: 0.5323 - val_loss: 1.2024 - val_accuracy: 0.5491\n",
            "Epoch 16/20\n",
            "90/90 [==============================] - 17s 190ms/step - loss: 1.2181 - accuracy: 0.5405 - val_loss: 1.1339 - val_accuracy: 0.5651\n",
            "Epoch 17/20\n",
            "90/90 [==============================] - 17s 189ms/step - loss: 1.1946 - accuracy: 0.5488 - val_loss: 1.1434 - val_accuracy: 0.5667\n",
            "Epoch 18/20\n",
            "90/90 [==============================] - 17s 189ms/step - loss: 1.1806 - accuracy: 0.5518 - val_loss: 1.1406 - val_accuracy: 0.5684\n",
            "Epoch 19/20\n",
            "90/90 [==============================] - 17s 189ms/step - loss: 1.1666 - accuracy: 0.5604 - val_loss: 1.0933 - val_accuracy: 0.5839\n",
            "Epoch 20/20\n",
            "90/90 [==============================] - 17s 189ms/step - loss: 1.1494 - accuracy: 0.5683 - val_loss: 1.1480 - val_accuracy: 0.5676\n",
            "Model: \"sequential\"\n",
            "_________________________________________________________________\n",
            " Layer (type)                Output Shape              Param #   \n",
            "=================================================================\n",
            " conv2d (Conv2D)             (None, 48, 48, 64)        640       \n",
            "                                                                 \n",
            " conv2d_1 (Conv2D)           (None, 48, 48, 64)        36928     \n",
            "                                                                 \n",
            " max_pooling2d (MaxPooling2D  (None, 24, 24, 64)       0         \n",
            " )                                                               \n",
            "                                                                 \n",
            " dropout (Dropout)           (None, 24, 24, 64)        0         \n",
            "                                                                 \n",
            " batch_normalization (BatchN  (None, 24, 24, 64)       256       \n",
            " ormalization)                                                   \n",
            "                                                                 \n",
            " conv2d_2 (Conv2D)           (None, 24, 24, 128)       73856     \n",
            "                                                                 \n",
            " conv2d_3 (Conv2D)           (None, 24, 24, 128)       147584    \n",
            "                                                                 \n",
            " max_pooling2d_1 (MaxPooling  (None, 12, 12, 128)      0         \n",
            " 2D)                                                             \n",
            "                                                                 \n",
            " dropout_1 (Dropout)         (None, 12, 12, 128)       0         \n",
            "                                                                 \n",
            " batch_normalization_1 (Batc  (None, 12, 12, 128)      512       \n",
            " hNormalization)                                                 \n",
            "                                                                 \n",
            " conv2d_4 (Conv2D)           (None, 12, 12, 64)        73792     \n",
            "                                                                 \n",
            " conv2d_5 (Conv2D)           (None, 12, 12, 64)        36928     \n",
            "                                                                 \n",
            " max_pooling2d_2 (MaxPooling  (None, 6, 6, 64)         0         \n",
            " 2D)                                                             \n",
            "                                                                 \n",
            " dropout_2 (Dropout)         (None, 6, 6, 64)          0         \n",
            "                                                                 \n",
            " batch_normalization_2 (Batc  (None, 6, 6, 64)         256       \n",
            " hNormalization)                                                 \n",
            "                                                                 \n",
            " flatten (Flatten)           (None, 2304)              0         \n",
            "                                                                 \n",
            " dense (Dense)               (None, 128)               295040    \n",
            "                                                                 \n",
            " dropout_3 (Dropout)         (None, 128)               0         \n",
            "                                                                 \n",
            " dense_1 (Dense)             (None, 64)                8256      \n",
            "                                                                 \n",
            " dropout_4 (Dropout)         (None, 64)                0         \n",
            "                                                                 \n",
            " batch_normalization_3 (Batc  (None, 64)               256       \n",
            " hNormalization)                                                 \n",
            "                                                                 \n",
            "=================================================================\n",
            "Total params: 674,304\n",
            "Trainable params: 673,664\n",
            "Non-trainable params: 640\n",
            "_________________________________________________________________\n",
            "CPU times: user 4min 4s, sys: 6.28 s, total: 4min 10s\n",
            "Wall time: 6min 25s\n"
          ]
        }
      ]
    },
    {
      "cell_type": "code",
      "source": [
        "# cnn.pop()\n",
        "# feature_mapping = cnn(X_train) \n",
        "\n",
        "# from sklearn import svm\n",
        "# clf = svm.SVC()\n",
        "# clf.fit(feature_mapping, y_train)"
      ],
      "metadata": {
        "id": "MX9nBuua46iC"
      },
      "execution_count": null,
      "outputs": []
    },
    {
      "cell_type": "code",
      "source": [
        "history = h1.history\n",
        "print(history.keys())"
      ],
      "metadata": {
        "execution": {
          "iopub.status.busy": "2021-11-15T14:38:02.46865Z",
          "iopub.execute_input": "2021-11-15T14:38:02.46925Z",
          "iopub.status.idle": "2021-11-15T14:38:02.473867Z",
          "shell.execute_reply.started": "2021-11-15T14:38:02.469207Z",
          "shell.execute_reply": "2021-11-15T14:38:02.472814Z"
        },
        "trusted": true,
        "id": "zT0jUiT4vtd1",
        "colab": {
          "base_uri": "https://localhost:8080/"
        },
        "outputId": "334dca52-7487-463b-e996-cf2ea82f29a9"
      },
      "execution_count": null,
      "outputs": [
        {
          "output_type": "stream",
          "name": "stdout",
          "text": [
            "dict_keys(['loss', 'accuracy', 'val_loss', 'val_accuracy'])\n"
          ]
        }
      ]
    },
    {
      "cell_type": "code",
      "source": [
        "epoch_range = range(1, len(history['loss'])+1)\n",
        "\n",
        "plt.figure(figsize=[14,4])\n",
        "plt.subplot(1,2,1)\n",
        "plt.plot(epoch_range, history['loss'], label='Training')\n",
        "plt.plot(epoch_range, history['val_loss'], label='Validation')\n",
        "plt.xlabel('Epoch'); plt.ylabel('Loss'); plt.title('Loss')\n",
        "plt.legend()\n",
        "plt.subplot(1,2,2)\n",
        "plt.plot(epoch_range, history['accuracy'], label='Training')\n",
        "plt.plot(epoch_range, history['val_accuracy'], label='Validation')\n",
        "plt.xlabel('Epoch'); plt.ylabel('Accuracy'); plt.title('Accuracy')\n",
        "plt.legend()\n",
        "plt.tight_layout()\n",
        "plt.show()"
      ],
      "metadata": {
        "execution": {
          "iopub.status.busy": "2021-11-15T14:38:08.432337Z",
          "iopub.execute_input": "2021-11-15T14:38:08.432613Z",
          "iopub.status.idle": "2021-11-15T14:38:08.870712Z",
          "shell.execute_reply.started": "2021-11-15T14:38:08.43258Z",
          "shell.execute_reply": "2021-11-15T14:38:08.870018Z"
        },
        "trusted": true,
        "id": "BjusQcKHvtd3",
        "colab": {
          "base_uri": "https://localhost:8080/",
          "height": 297
        },
        "outputId": "4decd3e9-7841-483c-a5e8-b0fcafca43bb"
      },
      "execution_count": null,
      "outputs": [
        {
          "output_type": "display_data",
          "data": {
            "text/plain": [
              "<Figure size 1008x288 with 2 Axes>"
            ],
            "image/png": "[encoded data removed]"
          },
          "metadata": {
            "needs_background": "light"
          }
        }
      ]
    },
    {
      "cell_type": "code",
      "source": [
        "tf.keras.backend.set_value(cnn.optimizer.learning_rate, 0.0001)"
      ],
      "metadata": {
        "execution": {
          "iopub.status.busy": "2021-11-16T15:31:06.792231Z",
          "iopub.execute_input": "2021-11-16T15:31:06.7926Z",
          "iopub.status.idle": "2021-11-16T15:31:06.797868Z",
          "shell.execute_reply.started": "2021-11-16T15:31:06.792563Z",
          "shell.execute_reply": "2021-11-16T15:31:06.797027Z"
        },
        "trusted": true,
        "id": "O_HCy5r4vtd3"
      },
      "execution_count": null,
      "outputs": []
    },
    {
      "cell_type": "code",
      "source": [
        "%%time \n",
        "\n",
        "h2 = cnn.fit(\n",
        "    X_train, y_train, \n",
        "    batch_size=256,\n",
        "    epochs = 20,\n",
        "    verbose = 1,\n",
        "    validation_data = (X_valid, y_valid)\n",
        ")"
      ],
      "metadata": {
        "execution": {
          "iopub.status.busy": "2021-11-16T15:31:12.19089Z",
          "iopub.execute_input": "2021-11-16T15:31:12.191165Z",
          "iopub.status.idle": "2021-11-16T15:32:46.718819Z",
          "shell.execute_reply.started": "2021-11-16T15:31:12.191135Z",
          "shell.execute_reply": "2021-11-16T15:32:46.718109Z"
        },
        "trusted": true,
        "id": "dpdDHx_-vtd3",
        "colab": {
          "base_uri": "https://localhost:8080/"
        },
        "outputId": "9a5afe63-e291-42dd-ca2b-3073d410d866"
      },
      "execution_count": null,
      "outputs": [
        {
          "output_type": "stream",
          "name": "stdout",
          "text": [
            "Epoch 1/20\n",
            "90/90 [==============================] - 10s 106ms/step - loss: 1.1040 - accuracy: 0.5842 - val_loss: 1.0525 - val_accuracy: 0.5996\n",
            "Epoch 2/20\n",
            "90/90 [==============================] - 9s 99ms/step - loss: 1.0915 - accuracy: 0.5902 - val_loss: 1.0507 - val_accuracy: 0.5996\n",
            "Epoch 3/20\n",
            "90/90 [==============================] - 9s 99ms/step - loss: 1.0790 - accuracy: 0.5962 - val_loss: 1.0385 - val_accuracy: 0.6094\n",
            "Epoch 4/20\n",
            "90/90 [==============================] - 9s 99ms/step - loss: 1.0751 - accuracy: 0.5989 - val_loss: 1.0324 - val_accuracy: 0.6087\n",
            "Epoch 5/20\n",
            "90/90 [==============================] - 9s 100ms/step - loss: 1.0681 - accuracy: 0.5975 - val_loss: 1.0324 - val_accuracy: 0.6085\n",
            "Epoch 6/20\n",
            "90/90 [==============================] - 9s 100ms/step - loss: 1.0745 - accuracy: 0.5942 - val_loss: 1.0348 - val_accuracy: 0.6083\n",
            "Epoch 7/20\n",
            "90/90 [==============================] - 9s 100ms/step - loss: 1.0555 - accuracy: 0.6026 - val_loss: 1.0281 - val_accuracy: 0.6116\n",
            "Epoch 8/20\n",
            "90/90 [==============================] - 9s 99ms/step - loss: 1.0597 - accuracy: 0.6030 - val_loss: 1.0203 - val_accuracy: 0.6184\n",
            "Epoch 9/20\n",
            "90/90 [==============================] - 9s 99ms/step - loss: 1.0481 - accuracy: 0.6053 - val_loss: 1.0240 - val_accuracy: 0.6149\n",
            "Epoch 10/20\n",
            "90/90 [==============================] - 10s 106ms/step - loss: 1.0416 - accuracy: 0.6097 - val_loss: 1.0218 - val_accuracy: 0.6129\n",
            "Epoch 11/20\n",
            "90/90 [==============================] - 9s 100ms/step - loss: 1.0429 - accuracy: 0.6070 - val_loss: 1.0185 - val_accuracy: 0.6132\n",
            "Epoch 12/20\n",
            "90/90 [==============================] - 9s 99ms/step - loss: 1.0385 - accuracy: 0.6097 - val_loss: 1.0182 - val_accuracy: 0.6139\n",
            "Epoch 13/20\n",
            "90/90 [==============================] - 9s 99ms/step - loss: 1.0319 - accuracy: 0.6177 - val_loss: 1.0239 - val_accuracy: 0.6174\n",
            "Epoch 14/20\n",
            "90/90 [==============================] - 10s 106ms/step - loss: 1.0311 - accuracy: 0.6105 - val_loss: 1.0156 - val_accuracy: 0.6209\n",
            "Epoch 15/20\n",
            "90/90 [==============================] - 9s 99ms/step - loss: 1.0249 - accuracy: 0.6187 - val_loss: 1.0142 - val_accuracy: 0.6195\n",
            "Epoch 16/20\n",
            "90/90 [==============================] - 9s 99ms/step - loss: 1.0262 - accuracy: 0.6151 - val_loss: 1.0117 - val_accuracy: 0.6195\n",
            "Epoch 17/20\n",
            "90/90 [==============================] - 9s 99ms/step - loss: 1.0226 - accuracy: 0.6179 - val_loss: 1.0121 - val_accuracy: 0.6165\n",
            "Epoch 18/20\n",
            "90/90 [==============================] - 10s 106ms/step - loss: 1.0195 - accuracy: 0.6182 - val_loss: 1.0228 - val_accuracy: 0.6148\n",
            "Epoch 19/20\n",
            "90/90 [==============================] - 9s 99ms/step - loss: 1.0101 - accuracy: 0.6254 - val_loss: 1.0112 - val_accuracy: 0.6203\n",
            "Epoch 20/20\n",
            "90/90 [==============================] - 9s 99ms/step - loss: 1.0149 - accuracy: 0.6222 - val_loss: 1.0073 - val_accuracy: 0.6203\n",
            "CPU times: user 2min 2s, sys: 2.43 s, total: 2min 5s\n",
            "Wall time: 3min 22s\n"
          ]
        }
      ]
    },
    {
      "cell_type": "code",
      "source": [
        "for k in history.keys():\n",
        "    history[k] += h2.history[k]\n",
        "\n",
        "epoch_range = range(1, len(history['loss'])+1)\n",
        "\n",
        "plt.figure(figsize=[14,4])\n",
        "plt.subplot(1,2,1)\n",
        "plt.plot(epoch_range, history['loss'], label='Training')\n",
        "plt.plot(epoch_range, history['val_loss'], label='Validation')\n",
        "plt.xlabel('Epoch'); plt.ylabel('Loss'); plt.title('Loss')\n",
        "plt.legend()\n",
        "plt.subplot(1,2,2)\n",
        "plt.plot(epoch_range, history['accuracy'], label='Training')\n",
        "plt.plot(epoch_range, history['val_accuracy'], label='Validation')\n",
        "plt.xlabel('Epoch'); plt.ylabel('Accuracy'); plt.title('Accuracy')\n",
        "plt.legend()\n",
        "plt.tight_layout()\n",
        "plt.show()"
      ],
      "metadata": {
        "execution": {
          "iopub.status.busy": "2021-11-15T14:40:28.712864Z",
          "iopub.execute_input": "2021-11-15T14:40:28.713524Z",
          "iopub.status.idle": "2021-11-15T14:40:29.174261Z",
          "shell.execute_reply.started": "2021-11-15T14:40:28.713485Z",
          "shell.execute_reply": "2021-11-15T14:40:29.173433Z"
        },
        "trusted": true,
        "id": "s0Oj9TLYvtd4",
        "colab": {
          "base_uri": "https://localhost:8080/",
          "height": 297
        },
        "outputId": "a520a306-e86f-4f44-f02e-ccd708712800"
      },
      "execution_count": null,
      "outputs": [
        {
          "output_type": "display_data",
          "data": {
            "text/plain": [
              "<Figure size 1008x288 with 2 Axes>"
            ],
            "image/png": "[encoded data removed]"
          },
          "metadata": {
            "needs_background": "light"
          }
        }
      ]
    },
    {
      "cell_type": "markdown",
      "source": [
        "## Save Model and History"
      ],
      "metadata": {
        "id": "m9vGAH20vtd4"
      }
    },
    {
      "cell_type": "code",
      "source": [
        "cnn.save('fer_model_v01.h5')\n",
        "pickle.dump(history, open(f'fer_v01.pkl', 'wb'))"
      ],
      "metadata": {
        "execution": {
          "iopub.status.busy": "2021-11-15T14:40:43.877317Z",
          "iopub.execute_input": "2021-11-15T14:40:43.877598Z",
          "iopub.status.idle": "2021-11-15T14:40:43.969949Z",
          "shell.execute_reply.started": "2021-11-15T14:40:43.877569Z",
          "shell.execute_reply": "2021-11-15T14:40:43.969246Z"
        },
        "trusted": true,
        "id": "qgomA3ztvtd4"
      },
      "execution_count": null,
      "outputs": []
    },
    {
      "cell_type": "code",
      "source": [
        "print(X_train[0].shape)\n",
        "print(type(y_train),type(X_train[0]))#,y_train[0])\n",
        "temp = cnn.predict(X_train[0].reshape((1,48,48,1)))\n",
        "#print(temp)\n",
        "#print(temp[0].index(max(temp[0])))\n",
        "#plt.imshow(X[0],cmap=\"gray\")\n",
        "#plt.show()"
      ],
      "metadata": {
        "execution": {
          "iopub.status.busy": "2021-11-15T15:13:54.791439Z",
          "iopub.execute_input": "2021-11-15T15:13:54.79169Z",
          "iopub.status.idle": "2021-11-15T15:13:54.797209Z",
          "shell.execute_reply.started": "2021-11-15T15:13:54.791661Z",
          "shell.execute_reply": "2021-11-15T15:13:54.796365Z"
        },
        "trusted": true,
        "id": "a1IEkQkSvtd4",
        "colab": {
          "base_uri": "https://localhost:8080/"
        },
        "outputId": "985ac3aa-1cb6-45ce-d585-928edfec6108"
      },
      "execution_count": null,
      "outputs": [
        {
          "output_type": "stream",
          "name": "stdout",
          "text": [
            "(48, 48, 1)\n",
            "<class 'pandas.core.series.Series'> <class 'numpy.ndarray'>\n"
          ]
        }
      ]
    },
    {
      "cell_type": "code",
      "source": [
        "from sklearn.model_selection import KFold\n",
        "import numpy as np\n",
        "num_folds = 10"
      ],
      "metadata": {
        "id": "HukewPxnvtd4"
      },
      "execution_count": null,
      "outputs": []
    },
    {
      "cell_type": "code",
      "source": [
        ""
      ],
      "metadata": {
        "id": "JFqpWuHr1CUU"
      },
      "execution_count": null,
      "outputs": []
    }
  ]
}